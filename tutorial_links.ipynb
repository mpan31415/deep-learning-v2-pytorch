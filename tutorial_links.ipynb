{
 "cells": [
  {
   "cell_type": "markdown",
   "metadata": {},
   "source": [
    "### 1. Nice Introduction on LSTMs\n",
    "[https://medium.com/analytics-vidhya/lstms-explained-a-complete-technically-accurate-conceptual-guide-with-keras-2a650327e8f2]"
   ]
  },
  {
   "cell_type": "markdown",
   "metadata": {},
   "source": [
    "### 2. Tutorial on Diffusion Models for Imaging and Vision\n",
    "[https://arxiv.org/abs/2403.18103]"
   ]
  },
  {
   "cell_type": "markdown",
   "metadata": {},
   "source": [
    "### 3. LLM Control Theory Seminar (Aman Bhargava, Caltech)\n",
    "[https://m.youtube.com/watch?v=9QtS9sVBFM0&feature=youtu.be]"
   ]
  },
  {
   "cell_type": "markdown",
   "metadata": {},
   "source": [
    "### 4. Building an LLM from scratch\n",
    "[https://github.com/rasbt/LLMs-from-scratch/tree/main]"
   ]
  },
  {
   "cell_type": "markdown",
   "metadata": {},
   "source": [
    "### 5. An Introduction to Vision-Language Modeling\n",
    "[https://arxiv.org/abs/2405.17247]"
   ]
  },
  {
   "cell_type": "markdown",
   "metadata": {},
   "source": [
    "### 6. ETH Zurich - Control Systems II (Emilio Frazzoli) Interactive Notebooks\n",
    "[https://github.com/idsc-frazzoli/CS2-2024-notebooks]"
   ]
  }
 ],
 "metadata": {
  "kernelspec": {
   "display_name": "Python 3",
   "language": "python",
   "name": "python3"
  },
  "language_info": {
   "name": "python",
   "version": "3.11.4"
  }
 },
 "nbformat": 4,
 "nbformat_minor": 2
}
